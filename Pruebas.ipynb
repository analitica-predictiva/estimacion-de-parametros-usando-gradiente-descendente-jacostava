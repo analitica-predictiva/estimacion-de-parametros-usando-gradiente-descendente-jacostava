{
 "cells": [
  {
   "cell_type": "code",
   "execution_count": 2,
   "metadata": {},
   "outputs": [],
   "source": [
    "import pandas as pd\n",
    "from sklearn.preprocessing import PolynomialFeatures"
   ]
  },
  {
   "cell_type": "code",
   "execution_count": 3,
   "metadata": {},
   "outputs": [
    {
     "data": {
      "text/html": [
       "<div>\n",
       "<style scoped>\n",
       "    .dataframe tbody tr th:only-of-type {\n",
       "        vertical-align: middle;\n",
       "    }\n",
       "\n",
       "    .dataframe tbody tr th {\n",
       "        vertical-align: top;\n",
       "    }\n",
       "\n",
       "    .dataframe thead th {\n",
       "        text-align: right;\n",
       "    }\n",
       "</style>\n",
       "<table border=\"1\" class=\"dataframe\">\n",
       "  <thead>\n",
       "    <tr style=\"text-align: right;\">\n",
       "      <th></th>\n",
       "      <th>x</th>\n",
       "      <th>y</th>\n",
       "    </tr>\n",
       "  </thead>\n",
       "  <tbody>\n",
       "    <tr>\n",
       "      <th>0</th>\n",
       "      <td>-4.0000</td>\n",
       "      <td>45.0000</td>\n",
       "    </tr>\n",
       "    <tr>\n",
       "      <th>1</th>\n",
       "      <td>-3.5789</td>\n",
       "      <td>37.3546</td>\n",
       "    </tr>\n",
       "    <tr>\n",
       "      <th>2</th>\n",
       "      <td>-3.1579</td>\n",
       "      <td>30.4183</td>\n",
       "    </tr>\n",
       "    <tr>\n",
       "      <th>3</th>\n",
       "      <td>-2.7368</td>\n",
       "      <td>24.1911</td>\n",
       "    </tr>\n",
       "    <tr>\n",
       "      <th>4</th>\n",
       "      <td>-2.3158</td>\n",
       "      <td>18.6731</td>\n",
       "    </tr>\n",
       "    <tr>\n",
       "      <th>5</th>\n",
       "      <td>-1.8947</td>\n",
       "      <td>13.8643</td>\n",
       "    </tr>\n",
       "    <tr>\n",
       "      <th>6</th>\n",
       "      <td>-1.4737</td>\n",
       "      <td>9.7645</td>\n",
       "    </tr>\n",
       "    <tr>\n",
       "      <th>7</th>\n",
       "      <td>-1.0526</td>\n",
       "      <td>6.3740</td>\n",
       "    </tr>\n",
       "    <tr>\n",
       "      <th>8</th>\n",
       "      <td>-0.6316</td>\n",
       "      <td>3.6925</td>\n",
       "    </tr>\n",
       "    <tr>\n",
       "      <th>9</th>\n",
       "      <td>-0.2105</td>\n",
       "      <td>1.7202</td>\n",
       "    </tr>\n",
       "    <tr>\n",
       "      <th>10</th>\n",
       "      <td>0.2105</td>\n",
       "      <td>0.4571</td>\n",
       "    </tr>\n",
       "    <tr>\n",
       "      <th>11</th>\n",
       "      <td>0.6316</td>\n",
       "      <td>-0.0970</td>\n",
       "    </tr>\n",
       "    <tr>\n",
       "      <th>12</th>\n",
       "      <td>1.0526</td>\n",
       "      <td>0.0582</td>\n",
       "    </tr>\n",
       "    <tr>\n",
       "      <th>13</th>\n",
       "      <td>1.4737</td>\n",
       "      <td>0.9224</td>\n",
       "    </tr>\n",
       "    <tr>\n",
       "      <th>14</th>\n",
       "      <td>1.8947</td>\n",
       "      <td>2.4958</td>\n",
       "    </tr>\n",
       "    <tr>\n",
       "      <th>15</th>\n",
       "      <td>2.3158</td>\n",
       "      <td>4.7784</td>\n",
       "    </tr>\n",
       "    <tr>\n",
       "      <th>16</th>\n",
       "      <td>2.7368</td>\n",
       "      <td>7.7701</td>\n",
       "    </tr>\n",
       "    <tr>\n",
       "      <th>17</th>\n",
       "      <td>3.1579</td>\n",
       "      <td>11.4709</td>\n",
       "    </tr>\n",
       "    <tr>\n",
       "      <th>18</th>\n",
       "      <td>3.5789</td>\n",
       "      <td>15.8809</td>\n",
       "    </tr>\n",
       "    <tr>\n",
       "      <th>19</th>\n",
       "      <td>4.0000</td>\n",
       "      <td>21.0000</td>\n",
       "    </tr>\n",
       "  </tbody>\n",
       "</table>\n",
       "</div>"
      ],
      "text/plain": [
       "         x        y\n",
       "0  -4.0000  45.0000\n",
       "1  -3.5789  37.3546\n",
       "2  -3.1579  30.4183\n",
       "3  -2.7368  24.1911\n",
       "4  -2.3158  18.6731\n",
       "5  -1.8947  13.8643\n",
       "6  -1.4737   9.7645\n",
       "7  -1.0526   6.3740\n",
       "8  -0.6316   3.6925\n",
       "9  -0.2105   1.7202\n",
       "10  0.2105   0.4571\n",
       "11  0.6316  -0.0970\n",
       "12  1.0526   0.0582\n",
       "13  1.4737   0.9224\n",
       "14  1.8947   2.4958\n",
       "15  2.3158   4.7784\n",
       "16  2.7368   7.7701\n",
       "17  3.1579  11.4709\n",
       "18  3.5789  15.8809\n",
       "19  4.0000  21.0000"
      ]
     },
     "execution_count": 3,
     "metadata": {},
     "output_type": "execute_result"
    }
   ],
   "source": [
    "data = pd.read_csv(\"data.csv\")\n",
    "data"
   ]
  },
  {
   "cell_type": "code",
   "execution_count": 4,
   "metadata": {},
   "outputs": [
    {
     "data": {
      "text/html": [
       "<style>#sk-container-id-1 {color: black;}#sk-container-id-1 pre{padding: 0;}#sk-container-id-1 div.sk-toggleable {background-color: white;}#sk-container-id-1 label.sk-toggleable__label {cursor: pointer;display: block;width: 100%;margin-bottom: 0;padding: 0.3em;box-sizing: border-box;text-align: center;}#sk-container-id-1 label.sk-toggleable__label-arrow:before {content: \"▸\";float: left;margin-right: 0.25em;color: #696969;}#sk-container-id-1 label.sk-toggleable__label-arrow:hover:before {color: black;}#sk-container-id-1 div.sk-estimator:hover label.sk-toggleable__label-arrow:before {color: black;}#sk-container-id-1 div.sk-toggleable__content {max-height: 0;max-width: 0;overflow: hidden;text-align: left;background-color: #f0f8ff;}#sk-container-id-1 div.sk-toggleable__content pre {margin: 0.2em;color: black;border-radius: 0.25em;background-color: #f0f8ff;}#sk-container-id-1 input.sk-toggleable__control:checked~div.sk-toggleable__content {max-height: 200px;max-width: 100%;overflow: auto;}#sk-container-id-1 input.sk-toggleable__control:checked~label.sk-toggleable__label-arrow:before {content: \"▾\";}#sk-container-id-1 div.sk-estimator input.sk-toggleable__control:checked~label.sk-toggleable__label {background-color: #d4ebff;}#sk-container-id-1 div.sk-label input.sk-toggleable__control:checked~label.sk-toggleable__label {background-color: #d4ebff;}#sk-container-id-1 input.sk-hidden--visually {border: 0;clip: rect(1px 1px 1px 1px);clip: rect(1px, 1px, 1px, 1px);height: 1px;margin: -1px;overflow: hidden;padding: 0;position: absolute;width: 1px;}#sk-container-id-1 div.sk-estimator {font-family: monospace;background-color: #f0f8ff;border: 1px dotted black;border-radius: 0.25em;box-sizing: border-box;margin-bottom: 0.5em;}#sk-container-id-1 div.sk-estimator:hover {background-color: #d4ebff;}#sk-container-id-1 div.sk-parallel-item::after {content: \"\";width: 100%;border-bottom: 1px solid gray;flex-grow: 1;}#sk-container-id-1 div.sk-label:hover label.sk-toggleable__label {background-color: #d4ebff;}#sk-container-id-1 div.sk-serial::before {content: \"\";position: absolute;border-left: 1px solid gray;box-sizing: border-box;top: 0;bottom: 0;left: 50%;z-index: 0;}#sk-container-id-1 div.sk-serial {display: flex;flex-direction: column;align-items: center;background-color: white;padding-right: 0.2em;padding-left: 0.2em;position: relative;}#sk-container-id-1 div.sk-item {position: relative;z-index: 1;}#sk-container-id-1 div.sk-parallel {display: flex;align-items: stretch;justify-content: center;background-color: white;position: relative;}#sk-container-id-1 div.sk-item::before, #sk-container-id-1 div.sk-parallel-item::before {content: \"\";position: absolute;border-left: 1px solid gray;box-sizing: border-box;top: 0;bottom: 0;left: 50%;z-index: -1;}#sk-container-id-1 div.sk-parallel-item {display: flex;flex-direction: column;z-index: 1;position: relative;background-color: white;}#sk-container-id-1 div.sk-parallel-item:first-child::after {align-self: flex-end;width: 50%;}#sk-container-id-1 div.sk-parallel-item:last-child::after {align-self: flex-start;width: 50%;}#sk-container-id-1 div.sk-parallel-item:only-child::after {width: 0;}#sk-container-id-1 div.sk-dashed-wrapped {border: 1px dashed gray;margin: 0 0.4em 0.5em 0.4em;box-sizing: border-box;padding-bottom: 0.4em;background-color: white;}#sk-container-id-1 div.sk-label label {font-family: monospace;font-weight: bold;display: inline-block;line-height: 1.2em;}#sk-container-id-1 div.sk-label-container {text-align: center;}#sk-container-id-1 div.sk-container {/* jupyter's `normalize.less` sets `[hidden] { display: none; }` but bootstrap.min.css set `[hidden] { display: none !important; }` so we also need the `!important` here to be able to override the default hidden behavior on the sphinx rendered scikit-learn.org. See: https://github.com/scikit-learn/scikit-learn/issues/21755 */display: inline-block !important;position: relative;}#sk-container-id-1 div.sk-text-repr-fallback {display: none;}</style><div id=\"sk-container-id-1\" class=\"sk-top-container\"><div class=\"sk-text-repr-fallback\"><pre>PolynomialFeatures()</pre><b>In a Jupyter environment, please rerun this cell to show the HTML representation or trust the notebook. <br />On GitHub, the HTML representation is unable to render, please try loading this page with nbviewer.org.</b></div><div class=\"sk-container\" hidden><div class=\"sk-item\"><div class=\"sk-estimator sk-toggleable\"><input class=\"sk-toggleable__control sk-hidden--visually\" id=\"sk-estimator-id-1\" type=\"checkbox\" checked><label for=\"sk-estimator-id-1\" class=\"sk-toggleable__label sk-toggleable__label-arrow\">PolynomialFeatures</label><div class=\"sk-toggleable__content\"><pre>PolynomialFeatures()</pre></div></div></div></div></div>"
      ],
      "text/plain": [
       "PolynomialFeatures()"
      ]
     },
     "execution_count": 4,
     "metadata": {},
     "output_type": "execute_result"
    }
   ],
   "source": [
    "# Cree un objeto de tipo `PolynomialFeatures` con grado `2`\n",
    "poly = PolynomialFeatures(2)\n",
    "poly"
   ]
  },
  {
   "cell_type": "code",
   "execution_count": 5,
   "metadata": {},
   "outputs": [
    {
     "data": {
      "text/plain": [
       "array([[ 1.   , -4.   , 16.   ],\n",
       "       [ 1.   , -3.579, 12.809],\n",
       "       [ 1.   , -3.158,  9.972],\n",
       "       [ 1.   , -2.737,  7.49 ],\n",
       "       [ 1.   , -2.316,  5.363],\n",
       "       [ 1.   , -1.895,  3.59 ],\n",
       "       [ 1.   , -1.474,  2.172],\n",
       "       [ 1.   , -1.053,  1.108],\n",
       "       [ 1.   , -0.632,  0.399],\n",
       "       [ 1.   , -0.21 ,  0.044],\n",
       "       [ 1.   ,  0.21 ,  0.044],\n",
       "       [ 1.   ,  0.632,  0.399],\n",
       "       [ 1.   ,  1.053,  1.108],\n",
       "       [ 1.   ,  1.474,  2.172],\n",
       "       [ 1.   ,  1.895,  3.59 ],\n",
       "       [ 1.   ,  2.316,  5.363],\n",
       "       [ 1.   ,  2.737,  7.49 ],\n",
       "       [ 1.   ,  3.158,  9.972],\n",
       "       [ 1.   ,  3.579, 12.809],\n",
       "       [ 1.   ,  4.   , 16.   ]])"
      ]
     },
     "execution_count": 5,
     "metadata": {},
     "output_type": "execute_result"
    }
   ],
   "source": [
    "# Transforme la columna `x` del dataset `data` usando el objeto `poly`\n",
    "x_poly = poly.fit_transform(data[[\"x\"]]).round(3)\n",
    "x_poly"
   ]
  },
  {
   "cell_type": "code",
   "execution_count": 6,
   "metadata": {},
   "outputs": [],
   "source": [
    "import numpy as np"
   ]
  },
  {
   "cell_type": "code",
   "execution_count": 14,
   "metadata": {},
   "outputs": [],
   "source": [
    "# Fije la tasa de aprendizaje en 0.0001 y el número de iteraciones en 1000\n",
    "learning_rate = 0.0001\n",
    "n_iterations = 500"
   ]
  },
  {
   "cell_type": "code",
   "execution_count": 15,
   "metadata": {},
   "outputs": [],
   "source": [
    "# Defina el parámetro inicial `params` como un arreglo de tamaño 3 con ceros\n",
    "params = np.zeros(x_poly.shape[1])\n",
    "for epoch in range(n_iterations):\n",
    "\n",
    "    # Compute el pronóstico con los parámetros actuales\n",
    "    y_pred = np.dot(x_poly, params)\n",
    "\n",
    "    # Calcule el error\n",
    "    error = [yt-yp for yt,yp in zip(data.y,y_pred)]\n",
    "    #error_2 = [ e**2 for e in error]\n",
    "    #mse = sum(error_2)/len(error)\n",
    "\n",
    "    # Calcule el gradiente\n",
    "    gradient = -2*np.sum(np.multiply(x_poly,np.array(error)[:,np.newaxis]),axis =  0)\n",
    "    \n",
    "    # Actualice los parámetros\n",
    "    params = params - learning_rate * gradient\n",
    "\n",
    "    #print(f\"el error en la iteración {epoch} es {error}\")"
   ]
  },
  {
   "cell_type": "code",
   "execution_count": 16,
   "metadata": {},
   "outputs": [
    {
     "data": {
      "text/plain": [
       "array([-5.86057825e+00,  4.76512490e-03,  5.58116245e-01])"
      ]
     },
     "execution_count": 16,
     "metadata": {},
     "output_type": "execute_result"
    }
   ],
   "source": [
    "gradient"
   ]
  },
  {
   "cell_type": "code",
   "execution_count": 17,
   "metadata": {},
   "outputs": [
    {
     "data": {
      "text/plain": [
       "array([ 0.66661408, -2.99983096,  2.03175709])"
      ]
     },
     "execution_count": 17,
     "metadata": {},
     "output_type": "execute_result"
    }
   ],
   "source": [
    "params"
   ]
  },
  {
   "cell_type": "code",
   "execution_count": 11,
   "metadata": {},
   "outputs": [
    {
     "data": {
      "text/plain": [
       "True"
      ]
     },
     "execution_count": 11,
     "metadata": {},
     "output_type": "execute_result"
    }
   ],
   "source": [
    "expected = np.array([0.666, -3.0, 2.032])\n",
    "np.allclose(params, expected, atol=1e-3)"
   ]
  },
  {
   "cell_type": "code",
   "execution_count": 12,
   "metadata": {},
   "outputs": [],
   "source": [
    "x_expected = np.array(\n",
    "        [\n",
    "            [1.0, -4.0, 16.0],\n",
    "            [1.0, -3.579, 12.809],\n",
    "            [1.0, -3.158, 9.972],\n",
    "            [1.0, -2.737, 7.49],\n",
    "            [1.0, -2.316, 5.363],\n",
    "            [1.0, -1.895, 3.59],\n",
    "            [1.0, -1.474, 2.172],\n",
    "            [1.0, -1.053, 1.108],\n",
    "            [1.0, -0.632, 0.399],\n",
    "            [1.0, -0.21, 0.044],\n",
    "            [1.0, 0.21, 0.044],\n",
    "            [1.0, 0.632, 0.399],\n",
    "            [1.0, 1.053, 1.108],\n",
    "            [1.0, 1.474, 2.172],\n",
    "            [1.0, 1.895, 3.59],\n",
    "            [1.0, 2.316, 5.363],\n",
    "            [1.0, 2.737, 7.49],\n",
    "            [1.0, 3.158, 9.972],\n",
    "            [1.0, 3.579, 12.809],\n",
    "            [1.0, 4.0, 16.0],\n",
    "        ]\n",
    "    )"
   ]
  },
  {
   "cell_type": "code",
   "execution_count": 13,
   "metadata": {},
   "outputs": [],
   "source": [
    "for i in range(x_poly.shape[0]):\n",
    "        for j in range(x_poly.shape[1]):\n",
    "            assert x_poly[i, j] == x_expected[i, j]"
   ]
  }
 ],
 "metadata": {
  "kernelspec": {
   "display_name": "Python 3",
   "language": "python",
   "name": "python3"
  },
  "language_info": {
   "codemirror_mode": {
    "name": "ipython",
    "version": 3
   },
   "file_extension": ".py",
   "mimetype": "text/x-python",
   "name": "python",
   "nbconvert_exporter": "python",
   "pygments_lexer": "ipython3",
   "version": "3.11.3"
  }
 },
 "nbformat": 4,
 "nbformat_minor": 2
}
